{
 "cells": [
  {
   "cell_type": "code",
   "execution_count": 1,
   "id": "364f1c68",
   "metadata": {},
   "outputs": [],
   "source": [
    "import math\n",
    "corpus = [[] for i in range(100)]  "
   ]
  },
  {
   "cell_type": "code",
   "execution_count": 2,
   "id": "fbf703d8",
   "metadata": {},
   "outputs": [],
   "source": [
    "i = 0\n",
    "for i in range(100):\n",
    "    file_name =\"Datasets/doc_\" + str(i) + \".txt\"\n",
    "    with open(file_name, 'r', encoding = \"utf-8\") as file:\n",
    "        for line in file:\n",
    "            for word in line.split():\n",
    "                corpus[i].append(word)"
   ]
  },
  {
   "cell_type": "code",
   "execution_count": 3,
   "id": "8cbd039b",
   "metadata": {},
   "outputs": [],
   "source": [
    "i = 0\n",
    "# contains all the words in the corpus in a set without duplicates\n",
    "unique_words = {\"and\"}\n",
    "for i in range(100):\n",
    "    unique_words = unique_words.union(set(corpus[i]))"
   ]
  },
  {
   "cell_type": "code",
   "execution_count": 4,
   "id": "9c8864f7",
   "metadata": {},
   "outputs": [],
   "source": [
    "# average length of all the documents\n",
    "def avgDocLen():\n",
    "    avg = 0\n",
    "    for i in range(100):\n",
    "        avg = avg + len(corpus[i])\n",
    "    return avg/100"
   ]
  },
  {
   "cell_type": "code",
   "execution_count": 5,
   "id": "f1cd930a",
   "metadata": {},
   "outputs": [],
   "source": [
    "# calculate frequency of documents in which word occurs\n",
    "def calculateFreqWord(word):\n",
    "    num_of_docs = 0\n",
    "    normalizedTermsTemp = []\n",
    "    for j in range(len(corpus[i])):\n",
    "        normalizedTermsTemp.append(corpus[i][j].lower())\n",
    "    if word.lower() in normalizedTermsTemp:\n",
    "        num_of_docs += 1\n",
    "    return num_of_docs;"
   ]
  },
  {
   "cell_type": "code",
   "execution_count": 6,
   "id": "18949e49",
   "metadata": {},
   "outputs": [],
   "source": [
    "# occurence of a word in a document\n",
    "def freqWordDoc(word, doc):\n",
    "    count = 0\n",
    "    freqTerm = dict()\n",
    "    normalizedTerms = []\n",
    "    for j in range(len(doc)):\n",
    "        normalizedTerms.append(doc[j].lower())\n",
    "    for term in normalizedTerms:\n",
    "        if term == word:\n",
    "            count = count + 1\n",
    "    return count"
   ]
  },
  {
   "cell_type": "code",
   "execution_count": 7,
   "id": "1ba5ec5b",
   "metadata": {},
   "outputs": [],
   "source": [
    "# frequency of a word in a query\n",
    "def freqWordQuery(word, query):\n",
    "    count = 0\n",
    "    for i in range(len(query)):\n",
    "        if word == query[i]:\n",
    "            count = count + 1\n",
    "    return count"
   ]
  },
  {
   "cell_type": "code",
   "execution_count": 8,
   "id": "73c365c4",
   "metadata": {},
   "outputs": [],
   "source": [
    "S1 = 5.0\n",
    "K1 = 0.2\n",
    "def calculateFij1(word, doc):\n",
    "    fij = freqWordDoc(word, doc)\n",
    "    num = S1 * fij\n",
    "    den = K1 + fij\n",
    "    return num/den"
   ]
  },
  {
   "cell_type": "code",
   "execution_count": 9,
   "id": "0c63353b",
   "metadata": {},
   "outputs": [],
   "source": [
    "def calculateFij2(word, doc):\n",
    "    fij = freqWordDoc(word, doc)\n",
    "    num = S1*fij\n",
    "    den = (K1 + len(doc))/avgDocLen() + fij\n",
    "    return num/den"
   ]
  },
  {
   "cell_type": "code",
   "execution_count": 10,
   "id": "3e00c7cc",
   "metadata": {},
   "outputs": [],
   "source": [
    "S3 = 3.0\n",
    "K3 = 2.3\n",
    "def calculateFiq(word, query):\n",
    "    fiq = freqWordQuery(word, query)\n",
    "    num = S3 + fiq\n",
    "    den = K3 + fiq\n",
    "    return num/den"
   ]
  },
  {
   "cell_type": "markdown",
   "id": "a22a92c1",
   "metadata": {},
   "source": [
    "# Part 1: Original BM Formulas"
   ]
  },
  {
   "cell_type": "code",
   "execution_count": 11,
   "id": "c0c46106",
   "metadata": {},
   "outputs": [],
   "source": [
    "N = 100\n",
    "# the query list is created to contain only words that is present in the corpus\n",
    "def BM1Original(queryList, doc):\n",
    "    rankBM1 = 0.0\n",
    "    for i in range(len(queryList)):\n",
    "        num = N - calculateFreqWord(queryList[i]) + 0.5\n",
    "        den = calculateFreqWord(queryList[i]) + 0.5\n",
    "        rankBM1 += math.log(num/den)\n",
    "    return rankBM1"
   ]
  },
  {
   "cell_type": "code",
   "execution_count": 12,
   "id": "1fe4b4f4",
   "metadata": {},
   "outputs": [],
   "source": [
    "def BM11Original(queryList, doc):\n",
    "    rankBM11 = 0.0\n",
    "    for i in range(len(queryList)):\n",
    "        num = N - calculateFreqWord(queryList[i]) + 0.5\n",
    "        den = calculateFreqWord(queryList[i]) + 0.5\n",
    "        rankBM11 += calculateFij2(queryList[i], doc)*calculateFiq(queryList[i], queryList)*math.log(num/den)\n",
    "    return rankBM11"
   ]
  },
  {
   "cell_type": "code",
   "execution_count": 13,
   "id": "4af9f08c",
   "metadata": {},
   "outputs": [],
   "source": [
    "def BM15Original(queryList, doc):\n",
    "    rankBM15 = 0.0\n",
    "    for i in range(len(queryList)):\n",
    "        num = N - calculateFreqWord(queryList[i]) + 0.5\n",
    "        den = calculateFreqWord(queryList[i]) + 0.5\n",
    "        rankBM15 += calculateFij1(queryList[i], doc)*calculateFiq(queryList[i], queryList)*math.log(num/den)\n",
    "    return rankBM15"
   ]
  },
  {
   "cell_type": "markdown",
   "id": "04d23713",
   "metadata": {},
   "source": [
    "## Part 2: Simpler BM Formulas"
   ]
  },
  {
   "cell_type": "code",
   "execution_count": 14,
   "id": "9c433a2c",
   "metadata": {},
   "outputs": [],
   "source": [
    "def BM11Simplified(queryList, doc):\n",
    "    rankBM11 = 0.0\n",
    "    for i in range(len(queryList)):\n",
    "        num = N - calculateFreqWord(queryList[i]) + 0.5\n",
    "        den = calculateFreqWord(queryList[i]) + 0.5\n",
    "        temp = ((K1 + 1)*freqWordDoc(queryList[i], doc))/((K1*len(doc))/avgDocLen() + freqWordDoc(queryList[i], doc))\n",
    "        rankBM11 += (temp*math.log(num/den))\n",
    "    return rankBM11"
   ]
  },
  {
   "cell_type": "code",
   "execution_count": 15,
   "id": "858acc8a",
   "metadata": {},
   "outputs": [],
   "source": [
    "def BM15Simplified(queryList, doc):\n",
    "    rankBM15 = 0.0\n",
    "    for i in range(len(queryList)):\n",
    "        num = N - calculateFreqWord(queryList[i]) + 0.5\n",
    "        den = calculateFreqWord(queryList[i]) + 0.5\n",
    "        temp = (K1+1)*freqWordDoc(queryList[i], doc)/(K1+freqWordDoc(queryList[i], doc))\n",
    "        rankBM15 += (temp*math.log(num/den))\n",
    "    return rankBM15"
   ]
  },
  {
   "cell_type": "markdown",
   "id": "1b7baf00",
   "metadata": {},
   "source": [
    "## Part 3: BM25"
   ]
  },
  {
   "cell_type": "code",
   "execution_count": 16,
   "id": "4fcba834",
   "metadata": {},
   "outputs": [],
   "source": [
    "b = 0.6\n",
    "def calculateBij(word, doc):\n",
    "    num = (K1 + 1)*freqWordDoc(word, doc)\n",
    "    den = K1*((1-b)+ b*len(doc)/avgDocLen()) + freqWordDoc(word, doc)\n",
    "    return num/den"
   ]
  },
  {
   "cell_type": "code",
   "execution_count": 17,
   "id": "9a94de7c",
   "metadata": {},
   "outputs": [],
   "source": [
    "def BM25(queryList, doc):\n",
    "    rankBM25 = 0.0\n",
    "    for i in range(len(queryList)):\n",
    "        num = N - calculateFreqWord(queryList[i]) + 0.5\n",
    "        den = calculateFreqWord(queryList[i]) + 0.5\n",
    "        temp = calculateBij(queryList[i], doc)\n",
    "        rankBM25 += (temp*math.log(num/den))\n",
    "    return rankBM25"
   ]
  },
  {
   "cell_type": "markdown",
   "id": "721423dd",
   "metadata": {},
   "source": [
    "## Final Rankings"
   ]
  },
  {
   "cell_type": "code",
   "execution_count": 18,
   "id": "91c93bfb",
   "metadata": {},
   "outputs": [],
   "source": [
    "# converts a given query to a list\n",
    "def makeQueryList(query):\n",
    "    li = list(query.split(\" \"))\n",
    "    return li"
   ]
  },
  {
   "cell_type": "code",
   "execution_count": 19,
   "id": "47a0831d",
   "metadata": {},
   "outputs": [],
   "source": [
    "rankedDocs = dict()\n",
    "# generates a ranked list of documents\n",
    "def generateRankedList(query):\n",
    "    queryList = []\n",
    "    for i in range(len(query)):\n",
    "        for term in unique_words:\n",
    "            if term == query[i]:\n",
    "                queryList.append(term)\n",
    "    for i in range(100):\n",
    "        rankedDocs[i] = BM25(queryList, corpus[i])\n",
    "    return queryList"
   ]
  },
  {
   "cell_type": "code",
   "execution_count": 20,
   "id": "66c53a2a",
   "metadata": {},
   "outputs": [
    {
     "name": "stdout",
     "output_type": "stream",
     "text": [
      "[(71, 24.71036951775119), (34, 24.506426921241918), (11, 24.429105399839955), (18, 24.3316480655729), (93, 24.157421184634174), (12, 24.085250007834812), (79, 24.045646301750875), (64, 24.0034283627492), (8, 23.955593852973816), (46, 23.925895947254443), (44, 23.870988045602765), (75, 23.825323898437905), (13, 23.77608549953814), (25, 23.543861845152737), (32, 23.26330910296604), (38, 23.17957775573173), (72, 23.162526160056704), (66, 22.72741236552405), (69, 22.72741236552405), (61, 22.46341073738064), (65, 19.612618962509472), (84, 19.547179209786997), (92, 19.538505321168188), (26, 19.491860713453118), (91, 19.491860713453118), (94, 19.37790086885186), (42, 19.37548457130805), (98, 19.36998405657417), (70, 19.34524987383677), (17, 19.33267972532781), (15, 19.314023874809056), (87, 19.301570649006333), (37, 19.24183015226704), (85, 19.24183015226704), (73, 19.221832830060563), (95, 19.20070571563903), (5, 19.199832694381946), (21, 19.18894760983015), (99, 19.18894760983015), (9, 19.142852087455907), (43, 19.088101156453067), (36, 19.072022382344265), (62, 19.05770483372802), (63, 19.050895267922733), (60, 19.037569020862925), (57, 19.035152723319115), (80, 19.028343157513827), (30, 18.951021636111868), (59, 18.934171845035845), (2, 18.924945981686747), (39, 18.917120249360817), (96, 18.88766749319487), (83, 18.885342275602817), (55, 18.8541162765751), (6, 18.828449451616713), (58, 18.808460081027), (33, 18.786020618522237), (74, 18.733673691474287), (10, 18.72630596453742), (51, 18.711115394664084), (3, 18.671829438095127), (48, 18.66501987228984), (4, 18.65228894491474), (1, 18.638944217864722), (31, 18.621892622189694), (89, 18.621892622189694), (28, 18.599340511780788), (35, 18.599340511780788), (53, 18.568114512753073), (0, 18.526558700915686), (29, 18.42668506910482), (77, 18.35858941105196), (78, 18.351779845246668), (40, 18.18677882765704), (47, 18.18677882765704), (49, 18.107523680491838), (16, 18.054575247357885), (20, 18.02334924833017), (97, 18.02334924833017), (22, 18.019273729583666), (19, 18.00222213390864), (50, 18.00222213390864), (88, 17.948444024472018), (7, 17.90034568862563), (23, 17.889617574722674), (27, 17.83666914158872), (52, 17.527822382807027), (41, 17.424107457464974), (45, 17.37801193509073), (24, 14.6149920939521), (82, 14.455361350363908), (90, 14.348917760534329), (14, 14.331866164859305), (81, 14.278088055422684), (56, 14.074025665267875), (76, 9.48688777555989), (86, 8.988626862977963), (54, 8.91372163911981), (67, 8.91372163911981), (68, 8.7707207572088)]\n"
     ]
    }
   ],
   "source": [
    "#q = \"Americans victory\"\n",
    "#q = \"squads for centralised\"\n",
    "#q = \"Washington news for today\"\n",
    "# q = \"eat healthy\"\n",
    "q = \"Washington is the capital of America. Eat healthy and stay happy. Victory of Americans.\"\n",
    "queryList = makeQueryList(q)\n",
    "generateRankedList(queryList)\n",
    "# sorts the documents in decreasing rank\n",
    "sortedRankedDocs = sorted(rankedDocs.items(), key=lambda kv: kv[1], reverse= True)\n",
    "print(sortedRankedDocs)"
   ]
  },
  {
   "cell_type": "code",
   "execution_count": null,
   "id": "03690cc8",
   "metadata": {},
   "outputs": [],
   "source": []
  }
 ],
 "metadata": {
  "kernelspec": {
   "display_name": "Python 3 (ipykernel)",
   "language": "python",
   "name": "python3"
  },
  "language_info": {
   "codemirror_mode": {
    "name": "ipython",
    "version": 3
   },
   "file_extension": ".py",
   "mimetype": "text/x-python",
   "name": "python",
   "nbconvert_exporter": "python",
   "pygments_lexer": "ipython3",
   "version": "3.8.8"
  }
 },
 "nbformat": 4,
 "nbformat_minor": 5
}
