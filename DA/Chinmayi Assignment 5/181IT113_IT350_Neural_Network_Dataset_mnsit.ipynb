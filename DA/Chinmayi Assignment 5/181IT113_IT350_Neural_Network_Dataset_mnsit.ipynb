{
 "cells": [
  {
   "cell_type": "code",
   "execution_count": 31,
   "metadata": {},
   "outputs": [],
   "source": [
    "import numpy as np\n",
    "import tensorflow as tf\n",
    "import tensorflow.keras as keras\n",
    "import matplotlib.pyplot as plt"
   ]
  },
  {
   "cell_type": "code",
   "execution_count": 16,
   "metadata": {},
   "outputs": [],
   "source": [
    "mnist = tf.keras.datasets.mnist\n",
    "(x_train, y_train),(x_test, y_test) = mnist.load_data()"
   ]
  },
  {
   "cell_type": "code",
   "execution_count": 17,
   "metadata": {},
   "outputs": [
    {
     "data": {
      "image/png": "[encoded data removed]",
      "text/plain": [
       "<Figure size 432x288 with 1 Axes>"
      ]
     },
     "metadata": {
      "needs_background": "light"
     },
     "output_type": "display_data"
    }
   ],
   "source": [
    "plt.imshow(x_train[0], cmap = plt.cm.binary)\n",
    "plt.show()"
   ]
  },
  {
   "cell_type": "code",
   "execution_count": 51,
   "metadata": {},
   "outputs": [],
   "source": [
    "x_train = tf.keras.utils.normalize(x_train, axis = 1)\n",
    "x_test = tf.keras.utils.normalize(x_test, axis = 1)\n",
    "\n",
    "x_train = np.array(x_train)\n",
    "x_test = np.array(x_test)\n",
    "y_train = np.array(y_train)\n",
    "y_test = np.array(y_test)"
   ]
  },
  {
   "cell_type": "code",
   "execution_count": 52,
   "metadata": {},
   "outputs": [
    {
     "data": {
      "image/png": "[encoded data removed]",
      "text/plain": [
       "<Figure size 432x288 with 1 Axes>"
      ]
     },
     "metadata": {
      "needs_background": "light"
     },
     "output_type": "display_data"
    }
   ],
   "source": [
    "plt.imshow(x_train[0], cmap = plt.cm.binary)\n",
    "plt.show()"
   ]
  },
  {
   "cell_type": "code",
   "execution_count": 77,
   "metadata": {},
   "outputs": [],
   "source": [
    "model1 = tf.keras.models.Sequential()\n",
    "\n",
    "model1.add(tf.keras.layers.Flatten())                                    #This is the input layer \n",
    "model1.add(tf.keras.layers.Dense(128, activation = 'relu'))          #This is the 1st hidden layer \n",
    "model1.add(tf.keras.layers.Dense(64, activation = 'relu'))           #This is the 2st hidden layer \n",
    "model1.add(tf.keras.layers.Dense(10, activation = 'softmax'))        #This is the output layer \n",
    "\n",
    "model1.compile(optimizer = 'adam',\n",
    "               loss = 'sparse_categorical_crossentropy',\n",
    "               metrics = ['accuracy'])\n"
   ]
  },
  {
   "cell_type": "code",
   "execution_count": 78,
   "metadata": {},
   "outputs": [
    {
     "name": "stdout",
     "output_type": "stream",
     "text": [
      "Epoch 1/10\n",
      "1875/1875 [==============================] - 2s 964us/step - loss: 0.4879 - accuracy: 0.8628 - val_loss: 0.1461 - val_accuracy: 0.9553\n",
      "Epoch 2/10\n",
      "1875/1875 [==============================] - 2s 1ms/step - loss: 0.1192 - accuracy: 0.9631 - val_loss: 0.0987 - val_accuracy: 0.9695\n",
      "Epoch 3/10\n",
      "1875/1875 [==============================] - 2s 1ms/step - loss: 0.0784 - accuracy: 0.9759 - val_loss: 0.1027 - val_accuracy: 0.9700\n",
      "Epoch 4/10\n",
      "1875/1875 [==============================] - 2s 886us/step - loss: 0.0563 - accuracy: 0.9817 - val_loss: 0.0970 - val_accuracy: 0.9709\n",
      "Epoch 5/10\n",
      "1875/1875 [==============================] - 2s 878us/step - loss: 0.0435 - accuracy: 0.9862 - val_loss: 0.1049 - val_accuracy: 0.9690\n",
      "Epoch 6/10\n",
      "1875/1875 [==============================] - 2s 889us/step - loss: 0.0350 - accuracy: 0.9886 - val_loss: 0.0970 - val_accuracy: 0.9743\n",
      "Epoch 7/10\n",
      "1875/1875 [==============================] - 2s 1ms/step - loss: 0.0235 - accuracy: 0.9921 - val_loss: 0.0946 - val_accuracy: 0.9751\n",
      "Epoch 8/10\n",
      "1875/1875 [==============================] - 2s 1ms/step - loss: 0.0207 - accuracy: 0.9930 - val_loss: 0.0971 - val_accuracy: 0.9745\n",
      "Epoch 9/10\n",
      "1875/1875 [==============================] - 2s 887us/step - loss: 0.0155 - accuracy: 0.9950 - val_loss: 0.1072 - val_accuracy: 0.9733\n",
      "Epoch 10/10\n",
      "1875/1875 [==============================] - 2s 1ms/step - loss: 0.0133 - accuracy: 0.9955 - val_loss: 0.1028 - val_accuracy: 0.9748\n"
     ]
    }
   ],
   "source": [
    "hist = model1.fit(x_train, y_train, epochs = 10, validation_data=(x_test, y_test))"
   ]
  },
  {
   "cell_type": "code",
   "execution_count": 79,
   "metadata": {},
   "outputs": [
    {
     "name": "stdout",
     "output_type": "stream",
     "text": [
      "Model: \"sequential_7\"\n",
      "_________________________________________________________________\n",
      "Layer (type)                 Output Shape              Param #   \n",
      "=================================================================\n",
      "flatten_7 (Flatten)          (None, 784)               0         \n",
      "_________________________________________________________________\n",
      "dense_21 (Dense)             (None, 128)               100480    \n",
      "_________________________________________________________________\n",
      "dense_22 (Dense)             (None, 64)                8256      \n",
      "_________________________________________________________________\n",
      "dense_23 (Dense)             (None, 10)                650       \n",
      "=================================================================\n",
      "Total params: 109,386\n",
      "Trainable params: 109,386\n",
      "Non-trainable params: 0\n",
      "_________________________________________________________________\n",
      "None\n"
     ]
    }
   ],
   "source": [
    "print(model1.summary())"
   ]
  },
  {
   "cell_type": "code",
   "execution_count": 80,
   "metadata": {},
   "outputs": [
    {
     "name": "stdout",
     "output_type": "stream",
     "text": [
      "313/313 [==============================] - 0s 906us/step - loss: 0.1028 - accuracy: 0.9748\n",
      "Loss:  0.1028231680393219\n",
      "Accuracy:  0.9747999906539917\n"
     ]
    }
   ],
   "source": [
    "loss, accuracy = model1.evaluate(x_test, y_test)\n",
    "print(\"Loss: \",loss)\n",
    "print(\"Accuracy: \",accuracy)"
   ]
  },
  {
   "cell_type": "code",
   "execution_count": 63,
   "metadata": {},
   "outputs": [],
   "source": [
    "model2 = tf.keras.models.Sequential()\n",
    "\n",
    "model2.add(tf.keras.layers.Flatten())                                    #This is the input layer \n",
    "model2.add(tf.keras.layers.Dense(128, activation = 'relu'))          #This is the 1st hidden layer \n",
    "model2.add(tf.keras.layers.Dense(64, activation = 'relu'))           #This is the 2st hidden layer \n",
    "model2.add(tf.keras.layers.Dense(10, activation = 'softmax'))        #This is the output layer \n",
    "\n",
    "model2.compile(optimizer = 'SGD',\n",
    "               loss = 'sparse_categorical_crossentropy',\n",
    "               metrics = ['accuracy'])\n"
   ]
  },
  {
   "cell_type": "code",
   "execution_count": 74,
   "metadata": {},
   "outputs": [
    {
     "name": "stdout",
     "output_type": "stream",
     "text": [
      "Epoch 1/10\n",
      "600/600 [==============================] - 1s 2ms/step - loss: 0.2639 - accuracy: 0.9240 - val_loss: 0.2560 - val_accuracy: 0.9248\n",
      "Epoch 2/10\n",
      "600/600 [==============================] - 1s 2ms/step - loss: 0.2561 - accuracy: 0.9263 - val_loss: 0.2496 - val_accuracy: 0.9270\n",
      "Epoch 3/10\n",
      "600/600 [==============================] - 1s 2ms/step - loss: 0.2490 - accuracy: 0.9287 - val_loss: 0.2430 - val_accuracy: 0.9288\n",
      "Epoch 4/10\n",
      "600/600 [==============================] - 1s 2ms/step - loss: 0.2423 - accuracy: 0.9303 - val_loss: 0.2375 - val_accuracy: 0.9317\n",
      "Epoch 5/10\n",
      "600/600 [==============================] - 1s 2ms/step - loss: 0.2361 - accuracy: 0.9320 - val_loss: 0.2331 - val_accuracy: 0.9322\n",
      "Epoch 6/10\n",
      "600/600 [==============================] - 1s 2ms/step - loss: 0.2302 - accuracy: 0.9337 - val_loss: 0.2285 - val_accuracy: 0.9335\n",
      "Epoch 7/10\n",
      "600/600 [==============================] - 1s 2ms/step - loss: 0.2246 - accuracy: 0.9350 - val_loss: 0.2230 - val_accuracy: 0.9346\n",
      "Epoch 8/10\n",
      "600/600 [==============================] - 1s 2ms/step - loss: 0.2195 - accuracy: 0.9367 - val_loss: 0.2194 - val_accuracy: 0.9373\n",
      "Epoch 9/10\n",
      "600/600 [==============================] - 1s 2ms/step - loss: 0.2144 - accuracy: 0.9381 - val_loss: 0.2160 - val_accuracy: 0.9378\n",
      "Epoch 10/10\n",
      "600/600 [==============================] - 1s 2ms/step - loss: 0.2097 - accuracy: 0.9392 - val_loss: 0.2110 - val_accuracy: 0.9397\n"
     ]
    }
   ],
   "source": [
    "hist = model2.fit(x_train, y_train, batch_size = 100, epochs = 10, validation_data=(x_test, y_test))"
   ]
  },
  {
   "cell_type": "code",
   "execution_count": 75,
   "metadata": {},
   "outputs": [
    {
     "name": "stdout",
     "output_type": "stream",
     "text": [
      "Model: \"sequential_6\"\n",
      "_________________________________________________________________\n",
      "Layer (type)                 Output Shape              Param #   \n",
      "=================================================================\n",
      "flatten_6 (Flatten)          (None, 784)               0         \n",
      "_________________________________________________________________\n",
      "dense_18 (Dense)             (None, 128)               100480    \n",
      "_________________________________________________________________\n",
      "dense_19 (Dense)             (None, 64)                8256      \n",
      "_________________________________________________________________\n",
      "dense_20 (Dense)             (None, 10)                650       \n",
      "=================================================================\n",
      "Total params: 109,386\n",
      "Trainable params: 109,386\n",
      "Non-trainable params: 0\n",
      "_________________________________________________________________\n",
      "None\n"
     ]
    }
   ],
   "source": [
    "print(model2.summary())"
   ]
  },
  {
   "cell_type": "code",
   "execution_count": 76,
   "metadata": {},
   "outputs": [
    {
     "name": "stdout",
     "output_type": "stream",
     "text": [
      "313/313 [==============================] - 0s 603us/step - loss: 0.2110 - accuracy: 0.9397\n",
      "Loss:  0.21095527708530426\n",
      "Accuracy:  0.9397000074386597\n"
     ]
    }
   ],
   "source": [
    "loss, accuracy = model2.evaluate(x_test, y_test)\n",
    "print(\"Loss: \",loss)\n",
    "print(\"Accuracy: \",accuracy)"
   ]
  },
  {
   "cell_type": "markdown",
   "metadata": {},
   "source": [
    "**MODEL 3**\n",
    "\n",
    "**Activation function = Sigmoid**\n",
    "\n",
    "**Optimizer = adam optimizer**"
   ]
  },
  {
   "cell_type": "code",
   "execution_count": 81,
   "metadata": {},
   "outputs": [],
   "source": [
    "model3 = tf.keras.models.Sequential()\n",
    "\n",
    "model3.add(tf.keras.layers.Flatten())                                    #This is the input layer \n",
    "model3.add(tf.keras.layers.Dense(128, activation = 'sigmoid'))           #This is the 1st hidden layer \n",
    "model3.add(tf.keras.layers.Dense(64, activation = 'sigmoid'))            #This is the 2st hidden layer \n",
    "model3.add(tf.keras.layers.Dense(10, activation = 'softmax'))        #This is the output layer \n",
    "\n",
    "model3.compile(optimizer = 'adam',\n",
    "               loss = 'sparse_categorical_crossentropy',\n",
    "               metrics = ['accuracy'])"
   ]
  },
  {
   "cell_type": "code",
   "execution_count": 82,
   "metadata": {},
   "outputs": [
    {
     "name": "stdout",
     "output_type": "stream",
     "text": [
      "Epoch 1/10\n",
      "1875/1875 [==============================] - 2s 987us/step - loss: 1.0127 - accuracy: 0.7301 - val_loss: 0.2646 - val_accuracy: 0.9221\n",
      "Epoch 2/10\n",
      "1875/1875 [==============================] - 2s 958us/step - loss: 0.2470 - accuracy: 0.9275 - val_loss: 0.2020 - val_accuracy: 0.9397\n",
      "Epoch 3/10\n",
      "1875/1875 [==============================] - 2s 1ms/step - loss: 0.1776 - accuracy: 0.9471 - val_loss: 0.1528 - val_accuracy: 0.9537\n",
      "Epoch 4/10\n",
      "1875/1875 [==============================] - 2s 1ms/step - loss: 0.1350 - accuracy: 0.9602 - val_loss: 0.1279 - val_accuracy: 0.9609\n",
      "Epoch 5/10\n",
      "1875/1875 [==============================] - 2s 901us/step - loss: 0.1140 - accuracy: 0.9667 - val_loss: 0.1161 - val_accuracy: 0.9667\n",
      "Epoch 6/10\n",
      "1875/1875 [==============================] - 2s 925us/step - loss: 0.0922 - accuracy: 0.9718 - val_loss: 0.1045 - val_accuracy: 0.9679\n",
      "Epoch 7/10\n",
      "1875/1875 [==============================] - 2s 1ms/step - loss: 0.0758 - accuracy: 0.9773 - val_loss: 0.0998 - val_accuracy: 0.9697\n",
      "Epoch 8/10\n",
      "1875/1875 [==============================] - 2s 1ms/step - loss: 0.0647 - accuracy: 0.9806 - val_loss: 0.0936 - val_accuracy: 0.9711\n",
      "Epoch 9/10\n",
      "1875/1875 [==============================] - 2s 1ms/step - loss: 0.0544 - accuracy: 0.9842 - val_loss: 0.0952 - val_accuracy: 0.9695\n",
      "Epoch 10/10\n",
      "1875/1875 [==============================] - 2s 1ms/step - loss: 0.0454 - accuracy: 0.9873 - val_loss: 0.0848 - val_accuracy: 0.9744\n"
     ]
    }
   ],
   "source": [
    "hist = model3.fit(x_train, y_train, epochs = 10, validation_data=(x_test, y_test))"
   ]
  },
  {
   "cell_type": "code",
   "execution_count": 83,
   "metadata": {},
   "outputs": [
    {
     "name": "stdout",
     "output_type": "stream",
     "text": [
      "Model: \"sequential_8\"\n",
      "_________________________________________________________________\n",
      "Layer (type)                 Output Shape              Param #   \n",
      "=================================================================\n",
      "flatten_8 (Flatten)          (None, 784)               0         \n",
      "_________________________________________________________________\n",
      "dense_24 (Dense)             (None, 128)               100480    \n",
      "_________________________________________________________________\n",
      "dense_25 (Dense)             (None, 64)                8256      \n",
      "_________________________________________________________________\n",
      "dense_26 (Dense)             (None, 10)                650       \n",
      "=================================================================\n",
      "Total params: 109,386\n",
      "Trainable params: 109,386\n",
      "Non-trainable params: 0\n",
      "_________________________________________________________________\n",
      "None\n"
     ]
    }
   ],
   "source": [
    "print(model3.summary())"
   ]
  },
  {
   "cell_type": "code",
   "execution_count": 84,
   "metadata": {},
   "outputs": [
    {
     "name": "stdout",
     "output_type": "stream",
     "text": [
      "313/313 [==============================] - 0s 640us/step - loss: 0.0848 - accuracy: 0.9744\n",
      "Loss:  0.08481491357088089\n",
      "Accuracy:  0.974399983882904\n"
     ]
    }
   ],
   "source": [
    "loss, accuracy = model3.evaluate(x_test, y_test)\n",
    "print(\"Loss: \",loss)\n",
    "print(\"Accuracy: \",accuracy)"
   ]
  },
  {
   "cell_type": "markdown",
   "metadata": {},
   "source": [
    "**MODEL 4**\n",
    "\n",
    "**Activation function = Sigmoid**\n",
    "\n",
    "**Optimizer = SGD**"
   ]
  },
  {
   "cell_type": "code",
   "execution_count": 96,
   "metadata": {},
   "outputs": [],
   "source": [
    "model4 = tf.keras.models.Sequential()\n",
    "\n",
    "model4.add(tf.keras.layers.Flatten())                                    #This is the input layer \n",
    "model4.add(tf.keras.layers.Dense(128, activation = 'sigmoid'))          #This is the 1st hidden layer \n",
    "model4.add(tf.keras.layers.Dense(64, activation = 'sigmoid'))           #This is the 2st hidden layer \n",
    "model4.add(tf.keras.layers.Dense(10, activation = 'softmax'))        #This is the output layer \n",
    "\n",
    "model4.compile(optimizer = 'SGD',\n",
    "               loss = 'sparse_categorical_crossentropy',\n",
    "               metrics = ['accuracy'])\n"
   ]
  },
  {
   "cell_type": "code",
   "execution_count": 97,
   "metadata": {},
   "outputs": [
    {
     "name": "stdout",
     "output_type": "stream",
     "text": [
      "Epoch 1/10\n",
      "600/600 [==============================] - 1s 1ms/step - loss: 2.3495 - accuracy: 0.1090 - val_loss: 2.2907 - val_accuracy: 0.1135\n",
      "Epoch 2/10\n",
      "600/600 [==============================] - 1s 1ms/step - loss: 2.2886 - accuracy: 0.1397 - val_loss: 2.2782 - val_accuracy: 0.1135\n",
      "Epoch 3/10\n",
      "600/600 [==============================] - 1s 2ms/step - loss: 2.2754 - accuracy: 0.1503 - val_loss: 2.2632 - val_accuracy: 0.1616\n",
      "Epoch 4/10\n",
      "600/600 [==============================] - 1s 2ms/step - loss: 2.2601 - accuracy: 0.2144 - val_loss: 2.2458 - val_accuracy: 0.2278\n",
      "Epoch 5/10\n",
      "600/600 [==============================] - 1s 1ms/step - loss: 2.2411 - accuracy: 0.2708 - val_loss: 2.2232 - val_accuracy: 0.3468\n",
      "Epoch 6/10\n",
      "600/600 [==============================] - 1s 1ms/step - loss: 2.2174 - accuracy: 0.3871 - val_loss: 2.1935 - val_accuracy: 0.4522\n",
      "Epoch 7/10\n",
      "600/600 [==============================] - 1s 1ms/step - loss: 2.1860 - accuracy: 0.4520 - val_loss: 2.1538 - val_accuracy: 0.4301\n",
      "Epoch 8/10\n",
      "600/600 [==============================] - 1s 2ms/step - loss: 2.1413 - accuracy: 0.4963 - val_loss: 2.0967 - val_accuracy: 0.5618\n",
      "Epoch 9/10\n",
      "600/600 [==============================] - 1s 2ms/step - loss: 2.0806 - accuracy: 0.5573 - val_loss: 2.0181 - val_accuracy: 0.5898\n",
      "Epoch 10/10\n",
      "600/600 [==============================] - 1s 1ms/step - loss: 1.9961 - accuracy: 0.5980 - val_loss: 1.9108 - val_accuracy: 0.6299\n"
     ]
    }
   ],
   "source": [
    "hist = model4.fit(x_train, y_train, batch_size = 100, epochs = 10, validation_data=(x_test, y_test))"
   ]
  },
  {
   "cell_type": "code",
   "execution_count": 98,
   "metadata": {},
   "outputs": [
    {
     "name": "stdout",
     "output_type": "stream",
     "text": [
      "Model: \"sequential_13\"\n",
      "_________________________________________________________________\n",
      "Layer (type)                 Output Shape              Param #   \n",
      "=================================================================\n",
      "flatten_13 (Flatten)         (100, 784)                0         \n",
      "_________________________________________________________________\n",
      "dense_39 (Dense)             (100, 128)                100480    \n",
      "_________________________________________________________________\n",
      "dense_40 (Dense)             (100, 64)                 8256      \n",
      "_________________________________________________________________\n",
      "dense_41 (Dense)             (100, 10)                 650       \n",
      "=================================================================\n",
      "Total params: 109,386\n",
      "Trainable params: 109,386\n",
      "Non-trainable params: 0\n",
      "_________________________________________________________________\n",
      "None\n"
     ]
    }
   ],
   "source": [
    "print(model4.summary())"
   ]
  },
  {
   "cell_type": "code",
   "execution_count": 99,
   "metadata": {},
   "outputs": [
    {
     "name": "stdout",
     "output_type": "stream",
     "text": [
      "313/313 [==============================] - 0s 929us/step - loss: 1.9108 - accuracy: 0.6299\n",
      "Loss:  1.9108384847640991\n",
      "Accuracy:  0.6298999786376953\n"
     ]
    }
   ],
   "source": [
    "loss, accuracy = model4.evaluate(x_test, y_test)\n",
    "print(\"Loss: \",loss)\n",
    "print(\"Accuracy: \",accuracy)"
   ]
  },
  {
   "cell_type": "markdown",
   "metadata": {},
   "source": [
    "**MODEL 5**\n",
    "\n",
    "**Activation function = Leaky ReLU**\n",
    "\n",
    "**Optimizer = adam optimizer**"
   ]
  },
  {
   "cell_type": "code",
   "execution_count": 100,
   "metadata": {},
   "outputs": [],
   "source": [
    "model5 = tf.keras.models.Sequential()\n",
    "\n",
    "#This is the input layer \n",
    "model5.add(tf.keras.layers.Flatten())                                    \n",
    "#This is the 1st hidden layer\n",
    "model5.add(tf.keras.layers.Dense(128, activation = tf.keras.layers.LeakyReLU(alpha=0.1))) \n",
    "#This is the 2st hidden layer \n",
    "model5.add(tf.keras.layers.Dense(64, activation = tf.keras.layers.LeakyReLU(alpha=0.1)))    \n",
    "#This is the output layer\n",
    "model5.add(tf.keras.layers.Dense(10, activation = tf.nn.softmax))         \n",
    "\n",
    "model5.compile(optimizer = 'adam',\n",
    "               loss = 'sparse_categorical_crossentropy',\n",
    "               metrics = ['accuracy'])"
   ]
  },
  {
   "cell_type": "code",
   "execution_count": 101,
   "metadata": {},
   "outputs": [
    {
     "name": "stdout",
     "output_type": "stream",
     "text": [
      "Epoch 1/10\n",
      "1875/1875 [==============================] - 2s 1ms/step - loss: 0.4915 - accuracy: 0.8575 - val_loss: 0.1501 - val_accuracy: 0.9536\n",
      "Epoch 2/10\n",
      "1875/1875 [==============================] - 2s 953us/step - loss: 0.1295 - accuracy: 0.9604 - val_loss: 0.1191 - val_accuracy: 0.9644\n",
      "Epoch 3/10\n",
      "1875/1875 [==============================] - 2s 1ms/step - loss: 0.0836 - accuracy: 0.9745 - val_loss: 0.1095 - val_accuracy: 0.9673\n",
      "Epoch 4/10\n",
      "1875/1875 [==============================] - 2s 956us/step - loss: 0.0620 - accuracy: 0.9804 - val_loss: 0.0963 - val_accuracy: 0.9732\n",
      "Epoch 5/10\n",
      "1875/1875 [==============================] - 2s 1ms/step - loss: 0.0448 - accuracy: 0.9860 - val_loss: 0.0932 - val_accuracy: 0.9738\n",
      "Epoch 6/10\n",
      "1875/1875 [==============================] - 2s 1ms/step - loss: 0.0375 - accuracy: 0.9884 - val_loss: 0.1097 - val_accuracy: 0.9702\n",
      "Epoch 7/10\n",
      "1875/1875 [==============================] - 2s 1ms/step - loss: 0.0289 - accuracy: 0.9902 - val_loss: 0.0947 - val_accuracy: 0.9724\n",
      "Epoch 8/10\n",
      "1875/1875 [==============================] - 2s 1ms/step - loss: 0.0243 - accuracy: 0.9917 - val_loss: 0.1211 - val_accuracy: 0.9684\n",
      "Epoch 9/10\n",
      "1875/1875 [==============================] - 2s 1ms/step - loss: 0.0180 - accuracy: 0.9946 - val_loss: 0.1074 - val_accuracy: 0.9730\n",
      "Epoch 10/10\n",
      "1875/1875 [==============================] - 2s 1ms/step - loss: 0.0172 - accuracy: 0.9938 - val_loss: 0.1143 - val_accuracy: 0.9729\n"
     ]
    }
   ],
   "source": [
    "hist = model5.fit(x_train, y_train, epochs = 10, validation_data=(x_test, y_test))"
   ]
  },
  {
   "cell_type": "code",
   "execution_count": 102,
   "metadata": {},
   "outputs": [
    {
     "name": "stdout",
     "output_type": "stream",
     "text": [
      "Model: \"sequential_14\"\n",
      "_________________________________________________________________\n",
      "Layer (type)                 Output Shape              Param #   \n",
      "=================================================================\n",
      "flatten_14 (Flatten)         (None, 784)               0         \n",
      "_________________________________________________________________\n",
      "dense_42 (Dense)             (None, 128)               100480    \n",
      "_________________________________________________________________\n",
      "dense_43 (Dense)             (None, 64)                8256      \n",
      "_________________________________________________________________\n",
      "dense_44 (Dense)             (None, 10)                650       \n",
      "=================================================================\n",
      "Total params: 109,386\n",
      "Trainable params: 109,386\n",
      "Non-trainable params: 0\n",
      "_________________________________________________________________\n",
      "None\n"
     ]
    }
   ],
   "source": [
    "print(model5.summary())"
   ]
  },
  {
   "cell_type": "code",
   "execution_count": 103,
   "metadata": {},
   "outputs": [
    {
     "name": "stdout",
     "output_type": "stream",
     "text": [
      "313/313 [==============================] - 0s 689us/step - loss: 0.1143 - accuracy: 0.9729\n",
      "Loss:  0.1142926886677742\n",
      "Accuracy:  0.9728999733924866\n"
     ]
    }
   ],
   "source": [
    "loss, accuracy = model5.evaluate(x_test, y_test)\n",
    "print(\"Loss: \",loss)\n",
    "print(\"Accuracy: \",accuracy)"
   ]
  },
  {
   "cell_type": "markdown",
   "metadata": {},
   "source": [
    "**MODEL 6**\n",
    "\n",
    "**Activation function = Leaky ReLU**\n",
    "\n",
    "**Optimizer = SGD**"
   ]
  },
  {
   "cell_type": "code",
   "execution_count": 105,
   "metadata": {},
   "outputs": [],
   "source": [
    "model6 = tf.keras.models.Sequential()\n",
    "\n",
    "#This is the input layer \n",
    "model6.add(tf.keras.layers.Flatten())                                    \n",
    "#This is the 1st hidden layer\n",
    "model6.add(tf.keras.layers.Dense(128, activation = tf.keras.layers.LeakyReLU(alpha=0.1))) \n",
    "#This is the 2st hidden layer \n",
    "model6.add(tf.keras.layers.Dense(64, activation = tf.keras.layers.LeakyReLU(alpha=0.1)))    \n",
    "#This is the output layer\n",
    "model6.add(tf.keras.layers.Dense(10, activation = tf.nn.softmax))         \n",
    "\n",
    "model6.compile(optimizer = 'SGD',\n",
    "               loss = 'sparse_categorical_crossentropy',\n",
    "               metrics = ['accuracy'])"
   ]
  },
  {
   "cell_type": "code",
   "execution_count": 106,
   "metadata": {},
   "outputs": [
    {
     "name": "stdout",
     "output_type": "stream",
     "text": [
      "Epoch 1/10\n",
      "600/600 [==============================] - 1s 2ms/step - loss: 2.1226 - accuracy: 0.3465 - val_loss: 1.1942 - val_accuracy: 0.7904\n",
      "Epoch 2/10\n",
      "600/600 [==============================] - 1s 2ms/step - loss: 0.9725 - accuracy: 0.8106 - val_loss: 0.5774 - val_accuracy: 0.8653\n",
      "Epoch 3/10\n",
      "600/600 [==============================] - 1s 2ms/step - loss: 0.5494 - accuracy: 0.8624 - val_loss: 0.4437 - val_accuracy: 0.8855\n",
      "Epoch 4/10\n",
      "600/600 [==============================] - 1s 1ms/step - loss: 0.4450 - accuracy: 0.8776 - val_loss: 0.3891 - val_accuracy: 0.8955\n",
      "Epoch 5/10\n",
      "600/600 [==============================] - 1s 1ms/step - loss: 0.3892 - accuracy: 0.8912 - val_loss: 0.3600 - val_accuracy: 0.9020\n",
      "Epoch 6/10\n",
      "600/600 [==============================] - 1s 2ms/step - loss: 0.3583 - accuracy: 0.8979 - val_loss: 0.3383 - val_accuracy: 0.9067\n",
      "Epoch 7/10\n",
      "600/600 [==============================] - 1s 1ms/step - loss: 0.3388 - accuracy: 0.9030 - val_loss: 0.3235 - val_accuracy: 0.9104\n",
      "Epoch 8/10\n",
      "600/600 [==============================] - 1s 1ms/step - loss: 0.3316 - accuracy: 0.9056 - val_loss: 0.3090 - val_accuracy: 0.9129\n",
      "Epoch 9/10\n",
      "600/600 [==============================] - 1s 2ms/step - loss: 0.3102 - accuracy: 0.9101 - val_loss: 0.2993 - val_accuracy: 0.9156\n",
      "Epoch 10/10\n",
      "600/600 [==============================] - 1s 1ms/step - loss: 0.3040 - accuracy: 0.9124 - val_loss: 0.2909 - val_accuracy: 0.9184\n"
     ]
    }
   ],
   "source": [
    "hist = model6.fit(x_train, y_train, batch_size = 100, epochs = 10, validation_data=(x_test, y_test))"
   ]
  },
  {
   "cell_type": "code",
   "execution_count": 107,
   "metadata": {},
   "outputs": [
    {
     "name": "stdout",
     "output_type": "stream",
     "text": [
      "Model: \"sequential_16\"\n",
      "_________________________________________________________________\n",
      "Layer (type)                 Output Shape              Param #   \n",
      "=================================================================\n",
      "flatten_16 (Flatten)         (100, 784)                0         \n",
      "_________________________________________________________________\n",
      "dense_48 (Dense)             (100, 128)                100480    \n",
      "_________________________________________________________________\n",
      "dense_49 (Dense)             (100, 64)                 8256      \n",
      "_________________________________________________________________\n",
      "dense_50 (Dense)             (100, 10)                 650       \n",
      "=================================================================\n",
      "Total params: 109,386\n",
      "Trainable params: 109,386\n",
      "Non-trainable params: 0\n",
      "_________________________________________________________________\n",
      "None\n"
     ]
    }
   ],
   "source": [
    "print(model6.summary())"
   ]
  },
  {
   "cell_type": "code",
   "execution_count": 108,
   "metadata": {},
   "outputs": [
    {
     "name": "stdout",
     "output_type": "stream",
     "text": [
      "313/313 [==============================] - 0s 912us/step - loss: 0.2909 - accuracy: 0.9184\n",
      "Loss:  0.2908838391304016\n",
      "Accuracy:  0.91839998960495\n"
     ]
    }
   ],
   "source": [
    "loss, accuracy = model6.evaluate(x_test, y_test)\n",
    "print(\"Loss: \",loss)\n",
    "print(\"Accuracy: \",accuracy)"
   ]
  },
  {
   "cell_type": "code",
   "execution_count": 29,
   "metadata": {},
   "outputs": [
    {
     "name": "stdout",
     "output_type": "stream",
     "text": [
      "WARNING:tensorflow:Layers in a Sequential model should only have a single input tensor, but we receive a <class 'tuple'> input: (<tf.Tensor 'IteratorGetNext:0' shape=(None, 28, 28) dtype=float32>,)\n",
      "Consider rewriting this model with the Functional API.\n"
     ]
    }
   ],
   "source": [
    "predictions = model1.predict([x_test])"
   ]
  },
  {
   "cell_type": "code",
   "execution_count": 30,
   "metadata": {},
   "outputs": [
    {
     "name": "stdout",
     "output_type": "stream",
     "text": [
      "[[1.64667597e-06 3.20829287e-07 8.73441604e-06 ... 9.99675393e-01\n",
      "  1.40224972e-06 1.74414217e-05]\n",
      " [1.09990905e-08 1.85596407e-03 9.98048306e-01 ... 1.32647289e-08\n",
      "  2.19633221e-05 2.23717867e-11]\n",
      " [2.59667240e-06 9.99319911e-01 2.74092909e-05 ... 2.21119873e-04\n",
      "  2.64624628e-04 1.95195389e-05]\n",
      " ...\n",
      " [2.84008816e-09 1.06883753e-07 1.06270463e-07 ... 5.70329985e-06\n",
      "  2.16651506e-06 1.10931280e-04]\n",
      " [7.00117198e-07 3.20403342e-06 5.01819216e-07 ... 1.69808277e-06\n",
      "  3.95274768e-03 1.77156025e-07]\n",
      " [1.09505879e-06 3.91135746e-09 2.55253156e-07 ... 9.42268139e-11\n",
      "  5.54660164e-06 1.59024893e-09]]\n"
     ]
    }
   ],
   "source": [
    "print(predictions)"
   ]
  },
  {
   "cell_type": "code",
   "execution_count": 35,
   "metadata": {},
   "outputs": [
    {
     "name": "stdout",
     "output_type": "stream",
     "text": [
      "2\n"
     ]
    }
   ],
   "source": [
    "print(np.argmax(predictions[1]))"
   ]
  },
  {
   "cell_type": "code",
   "execution_count": 36,
   "metadata": {},
   "outputs": [
    {
     "data": {
      "image/png": "[encoded data removed]",
      "text/plain": [
       "<Figure size 432x288 with 1 Axes>"
      ]
     },
     "metadata": {
      "needs_background": "light"
     },
     "output_type": "display_data"
    }
   ],
   "source": [
    "plt.imshow(x_test[1], cmap = plt.cm.binary)\n",
    "plt.show()"
   ]
  }
 ],
 "metadata": {
  "kernelspec": {
   "display_name": "Python 3",
   "language": "python",
   "name": "python3"
  },
  "language_info": {
   "codemirror_mode": {
    "name": "ipython",
    "version": 3
   },
   "file_extension": ".py",
   "mimetype": "text/x-python",
   "name": "python",
   "nbconvert_exporter": "python",
   "pygments_lexer": "ipython3",
   "version": "3.6.9"
  }
 },
 "nbformat": 4,
 "nbformat_minor": 2
}